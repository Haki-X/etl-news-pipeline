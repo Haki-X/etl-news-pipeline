{
 "cells": [
  {
   "cell_type": "markdown",
   "id": "60c81d46",
   "metadata": {},
   "source": [
    "Data Extraction"
   ]
  },
  {
   "cell_type": "code",
   "execution_count": 2,
   "id": "fd014bbd",
   "metadata": {},
   "outputs": [
    {
     "name": "stdout",
     "output_type": "stream",
     "text": [
      "Memulai ekstraksi dari domain: kompas.com,detik.com,liputan6.com,tempo.co,cnnindonesia.com,cnbcindonesia.com...\n",
      "Ekstraksi selesai. Total 42 artikel unik berhasil didapatkan.\n"
     ]
    }
   ],
   "source": [
    "from dotenv import load_dotenv\n",
    "import os\n",
    "import requests\n",
    "import pandas as pd\n",
    "\n",
    "\n",
    "load_dotenv()\n",
    "\n",
    "API_KEY = os.getenv('NEWS_API_KEY')\n",
    "RELIABLE_DOMAINS =  \"kompas.com,detik.com,liputan6.com,tempo.co,cnnindonesia.com,cnbcindonesia.com\"\n",
    "SEARCH_QUERY = \"Indonesia\"\n",
    "PROJECT_ID = 'indonesia-news-466813'\n",
    "DESTINATION_TABLE = 'news_analysis.daily_indonesian_news'\n",
    "\n",
    "def extract_news_data(api_key, domains, search_query='Indonesia'):\n",
    "    \"\"\"\n",
    "    Mengambil maksimal 100 artikel berita dari domain spesifik.\n",
    "    Disesuaikan untuk batasan paket gratis NewsAPI.\n",
    "    \"\"\"\n",
    "    print(f\"Memulai ekstraksi dari domain: {domains}...\")\n",
    "    \n",
    "    URL = 'https://newsapi.org/v2/everything'\n",
    "    \n",
    "    # Konfigurasi parameter hanya untuk satu halaman\n",
    "    query_params = {\n",
    "        'q': search_query,\n",
    "        'domains': domains,\n",
    "        'language': 'id',\n",
    "        'sortBy': 'publishedAt', # Urutkan berdasarkan yang terbaru\n",
    "        'apiKey': api_key,\n",
    "        'pageSize': 100  # Minta jumlah artikel maksimal\n",
    "    }\n",
    "    \n",
    "    try:\n",
    "        response = requests.get(URL, params=query_params)\n",
    "        \n",
    "        if response.status_code != 200:\n",
    "            print(f\"Gagal mengambil data. Status: {response.status_code} - Pesan: {response.json().get('message', '')}\")\n",
    "            return None\n",
    "            \n",
    "        data = response.json()\n",
    "        articles = data.get('articles', [])\n",
    "        \n",
    "        if not articles:\n",
    "            print(\"Tidak ada artikel yang ditemukan dari domain tersebut.\")\n",
    "            return None\n",
    "        \n",
    "        df_raw = pd.DataFrame(articles)\n",
    "        # Hapus duplikat jika ada\n",
    "        df_raw.drop_duplicates(subset=['title'], inplace=True, keep='first')\n",
    "        \n",
    "        print(f\"Ekstraksi selesai. Total {len(df_raw)} artikel unik berhasil didapatkan.\")\n",
    "        return df_raw\n",
    "\n",
    "    except Exception as e:\n",
    "        print(f\"Terjadi error pada saat ekstraksi: {e}\")\n",
    "        return None\n",
    "    \n",
    "df_raw = extract_news_data(API_KEY, RELIABLE_DOMAINS, SEARCH_QUERY)"
   ]
  },
  {
   "cell_type": "markdown",
   "id": "bce78abf",
   "metadata": {},
   "source": [
    "Data Transform"
   ]
  },
  {
   "cell_type": "code",
   "execution_count": null,
   "id": "4b4041ee",
   "metadata": {},
   "outputs": [
    {
     "name": "stdout",
     "output_type": "stream",
     "text": [
      "Memulai proses transformasi data...\n",
      "Transformasi data selesai.\n"
     ]
    }
   ],
   "source": [
    "# transformation.py\n",
    "\n",
    "import pandas as pd\n",
    "from textblob import TextBlob\n",
    "\n",
    "df = df_raw.copy()\n",
    "\n",
    "def get_sentiment(text):\n",
    "    \"\"\"Menganalisis dan mengkategorikan sentimen dari sebuah teks.\"\"\"\n",
    "    # Membuat objek TextBlob\n",
    "    analysis = TextBlob(str(text))\n",
    "    # Menentukan sentimen berdasarkan polaritas\n",
    "    if analysis.sentiment.polarity > 0:\n",
    "        return 'Positif'\n",
    "    elif analysis.sentiment.polarity < 0:\n",
    "        return 'Negatif'\n",
    "    else:\n",
    "        return 'Netral'\n",
    "\n",
    "def clean_and_transform_data(df):\n",
    "    \"\"\"\n",
    "    Membersihkan dan mentransformasi data mentah.\n",
    "    Mengembalikan DataFrame yang siap untuk dimuat.\n",
    "    \"\"\"\n",
    "    print(\"Memulai proses transformasi data...\")\n",
    "    \n",
    "    # 1. Menangani data hilang dan duplikat\n",
    "    df.dropna(subset=['title', 'content'], inplace=True)\n",
    "    df.drop_duplicates(subset=['title'], inplace=True, keep='first')\n",
    "    \n",
    "    # 2. Konversi tipe data tanggal\n",
    "    df['publishedAt'] = pd.to_datetime(df['publishedAt'])\n",
    "    \n",
    "    # 3. Membongkar kolom 'source'\n",
    "    df['source_name'] = df['source'].apply(lambda x: eval(str(x))['name'])\n",
    "    \n",
    "    # 4. Analisis Sentimen (Fitur Baru)\n",
    "    df['sentiment'] = df['title'].apply(get_sentiment)\n",
    "    \n",
    "    # 5. Memilih dan menata ulang kolom\n",
    "    df_cleaned = df[['publishedAt', 'source_name', 'author', 'title', 'sentiment', 'description', 'url', 'content']]\n",
    "    \n",
    "    print(\"Transformasi data selesai.\")\n",
    "    return df_cleaned\n",
    "\n",
    "# Menyimpan data bersih ke file CSV\n",
    "df = clean_and_transform_data(df)\n",
    "df.to_csv('30 Hari Terakhir Berita Indonesia.csv', index=False, encoding='utf-8-sig')\n",
    "print(\"Data bersih telah disimpan ke news_cleaned.csv\")"
   ]
  },
  {
   "cell_type": "markdown",
   "id": "f8be5506",
   "metadata": {},
   "source": [
    "Load to Big Query"
   ]
  },
  {
   "cell_type": "code",
   "execution_count": 7,
   "id": "50f610d5",
   "metadata": {},
   "outputs": [],
   "source": [
    "# loading.py\n",
    "\n",
    "from google.cloud import bigquery\n",
    "\n",
    "def load_to_bigquery(df, project_id, destination_table):\n",
    "    \"\"\"\n",
    "    Memuat DataFrame ke tabel di Google BigQuery.\n",
    "    \"\"\"\n",
    "    print(f\"Memulai proses memuat data ke BigQuery...\")\n",
    "    \n",
    "    # Tentukan tujuan lengkap tabel (dataset.table)\n",
    "    # Contoh: destination_table = \"news_analysis.daily_indonesian_news\"\n",
    "    \n",
    "    client = bigquery.Client(project=project_id)\n",
    "    \n",
    "    # Konfigurasi job untuk mode 'append'\n",
    "    job_config = bigquery.LoadJobConfig(\n",
    "        write_disposition=\"WRITE_APPEND\",\n",
    "        autodetect=True,\n",
    "    )\n",
    "    \n",
    "    # Unggah data\n",
    "    job = client.load_table_from_dataframe(\n",
    "        df, destination_table, job_config=job_config\n",
    "    )\n",
    "    job.result()  # Menunggu proses selesai\n",
    "    \n",
    "    # Verifikasi\n",
    "    table = client.get_table(destination_table)\n",
    "    print(f\"Proses Selesai. Tabel '{table.table_id}' sekarang memiliki {table.num_rows} baris.\")"
   ]
  }
 ],
 "metadata": {
  "kernelspec": {
   "display_name": "jcds0612",
   "language": "python",
   "name": "python3"
  },
  "language_info": {
   "codemirror_mode": {
    "name": "ipython",
    "version": 3
   },
   "file_extension": ".py",
   "mimetype": "text/x-python",
   "name": "python",
   "nbconvert_exporter": "python",
   "pygments_lexer": "ipython3",
   "version": "3.13.2"
  }
 },
 "nbformat": 4,
 "nbformat_minor": 5
}
